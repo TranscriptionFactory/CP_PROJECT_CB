{
 "cells": [
  {
   "cell_type": "code",
   "execution_count": 1,
   "id": "dd2806ed",
   "metadata": {},
   "outputs": [
    {
     "name": "stderr",
     "output_type": "stream",
     "text": [
      "/net/dali/home/mscbio/aar126/.conda/envs/dehaze/lib/python3.9/site-packages/torchvision/io/image.py:13: UserWarning: Failed to load image Python extension: /net/dali/home/mscbio/aar126/.conda/envs/dehaze/lib/python3.9/site-packages/torchvision/image.so: undefined symbol: _ZN5torch3jit17parseSchemaOrNameERKSs\n",
      "  warn(f\"Failed to load image Python extension: {e}\")\n"
     ]
    }
   ],
   "source": [
    "import numpy as np\n",
    "import pandas as pd\n",
    "import matplotlib.pyplot as plt\n",
    "from my_models import *\n",
    "from skimage import metrics"
   ]
  },
  {
   "cell_type": "code",
   "execution_count": 2,
   "id": "41d0cf1f",
   "metadata": {},
   "outputs": [
    {
     "name": "stdout",
     "output_type": "stream",
     "text": [
      "Models available: \n",
      " LightDehazeNet \n",
      " LightDehazeNet_KL \n",
      " LighDehazeNet_GL \n",
      " LightDehazeNet_MI \n",
      " LightDehaze_Net_Attn, LightDehazeNet_Attn_Conv, LightDehazeNet_Attn_Conv_Big\n"
     ]
    }
   ],
   "source": [
    "_, models_avail = getHelp()"
   ]
  },
  {
   "cell_type": "code",
   "execution_count": 3,
   "id": "18e05493",
   "metadata": {},
   "outputs": [
    {
     "data": {
      "text/plain": [
       "['LightDehazeNet',\n",
       " 'LightDehazeNet_KL',\n",
       " 'LighDehazeNet_GL',\n",
       " 'LightDehazeNet_MI',\n",
       " 'LightDehazeNet_Attn',\n",
       " 'LightDehazeNet_Attn_Conv',\n",
       " 'LightDehazeNet_Attn_Conv_Big']"
      ]
     },
     "execution_count": 3,
     "metadata": {},
     "output_type": "execute_result"
    }
   ],
   "source": [
    "models_avail"
   ]
  },
  {
   "cell_type": "code",
   "execution_count": 4,
   "id": "ef047a08",
   "metadata": {},
   "outputs": [],
   "source": [
    "\n",
    "# current folder\n",
    "cur_folder = 'src'\n",
    "\n",
    "# storing paths as string\n",
    "main_dir = str(os.getcwd()[:-len(cur_folder)])\n",
    "\n",
    "weight_dir = main_dir + 'weights_batch4/'\n",
    "dirs = {models_avail[0] : weight_dir + str.lower(models_avail[0]) + '/', \n",
    "        models_avail[1] : weight_dir + str.lower(models_avail[0]) + '_KL/',\n",
    "       models_avail[2] : weight_dir + str.lower(models_avail[0]) + '_GL/',\n",
    "        #models_avail[3] : weight_dir + str.lower(models_avail[0]) + '_MI/',\n",
    "       models_avail[4] : weight_dir + str.lower(models_avail[4]) + '/', \n",
    "        models_avail[5] : weight_dir + str.lower(models_avail[5]) + '/',\n",
    "       models_avail[6] : weight_dir + str.lower(models_avail[6]) + '/'}"
   ]
  },
  {
   "cell_type": "code",
   "execution_count": 5,
   "id": "50643e1c",
   "metadata": {},
   "outputs": [],
   "source": [
    "files = ['per_epoch_train.csv', 'per_epoch_val.csv', 'train_loss_all.csv', 'val_loss_all.csv']"
   ]
  },
  {
   "cell_type": "code",
   "execution_count": 6,
   "id": "7964a997",
   "metadata": {},
   "outputs": [
    {
     "name": "stderr",
     "output_type": "stream",
     "text": [
      "/tmp/ipykernel_3466736/3807474912.py:7: FutureWarning: The frame.append method is deprecated and will be removed from pandas in a future version. Use pandas.concat instead.\n",
      "  losses = losses.append(mdl_losses[m], ignore_index = True)\n",
      "/tmp/ipykernel_3466736/3807474912.py:7: FutureWarning: The frame.append method is deprecated and will be removed from pandas in a future version. Use pandas.concat instead.\n",
      "  losses = losses.append(mdl_losses[m], ignore_index = True)\n",
      "/tmp/ipykernel_3466736/3807474912.py:7: FutureWarning: The frame.append method is deprecated and will be removed from pandas in a future version. Use pandas.concat instead.\n",
      "  losses = losses.append(mdl_losses[m], ignore_index = True)\n",
      "/tmp/ipykernel_3466736/3807474912.py:7: FutureWarning: The frame.append method is deprecated and will be removed from pandas in a future version. Use pandas.concat instead.\n",
      "  losses = losses.append(mdl_losses[m], ignore_index = True)\n",
      "/tmp/ipykernel_3466736/3807474912.py:7: FutureWarning: The frame.append method is deprecated and will be removed from pandas in a future version. Use pandas.concat instead.\n",
      "  losses = losses.append(mdl_losses[m], ignore_index = True)\n",
      "/tmp/ipykernel_3466736/3807474912.py:7: FutureWarning: The frame.append method is deprecated and will be removed from pandas in a future version. Use pandas.concat instead.\n",
      "  losses = losses.append(mdl_losses[m], ignore_index = True)\n"
     ]
    }
   ],
   "source": [
    "mdl_losses = {x : [] for x in dirs}\n",
    "\n",
    "losses = pd.DataFrame()\n",
    "\n",
    "for m in list(dirs.keys()):\n",
    "    mdl_losses[m] = {'train': pd.read_csv(dirs[m] + files[0]), 'val':pd.read_csv(dirs[m] + files[1])}\n",
    "    losses = losses.append(mdl_losses[m], ignore_index = True)"
   ]
  },
  {
   "cell_type": "code",
   "execution_count": 7,
   "id": "0cd3bd90",
   "metadata": {},
   "outputs": [
    {
     "name": "stderr",
     "output_type": "stream",
     "text": [
      "/tmp/ipykernel_3466736/1742764019.py:5: FutureWarning: The frame.append method is deprecated and will be removed from pandas in a future version. Use pandas.concat instead.\n",
      "  losses_long = losses_long.append(mdl_losses[m], ignore_index = True)\n",
      "/tmp/ipykernel_3466736/1742764019.py:5: FutureWarning: The frame.append method is deprecated and will be removed from pandas in a future version. Use pandas.concat instead.\n",
      "  losses_long = losses_long.append(mdl_losses[m], ignore_index = True)\n",
      "/tmp/ipykernel_3466736/1742764019.py:5: FutureWarning: The frame.append method is deprecated and will be removed from pandas in a future version. Use pandas.concat instead.\n",
      "  losses_long = losses_long.append(mdl_losses[m], ignore_index = True)\n",
      "/tmp/ipykernel_3466736/1742764019.py:5: FutureWarning: The frame.append method is deprecated and will be removed from pandas in a future version. Use pandas.concat instead.\n",
      "  losses_long = losses_long.append(mdl_losses[m], ignore_index = True)\n",
      "/tmp/ipykernel_3466736/1742764019.py:5: FutureWarning: The frame.append method is deprecated and will be removed from pandas in a future version. Use pandas.concat instead.\n",
      "  losses_long = losses_long.append(mdl_losses[m], ignore_index = True)\n",
      "/tmp/ipykernel_3466736/1742764019.py:5: FutureWarning: The frame.append method is deprecated and will be removed from pandas in a future version. Use pandas.concat instead.\n",
      "  losses_long = losses_long.append(mdl_losses[m], ignore_index = True)\n"
     ]
    }
   ],
   "source": [
    "\n",
    "losses_long = pd.DataFrame()\n",
    "\n",
    "for m in list(dirs.keys()):\n",
    "    mdl_losses[m] = {'train': pd.read_csv(dirs[m] + files[2]), 'val':pd.read_csv(dirs[m] + files[1])}\n",
    "    losses_long = losses_long.append(mdl_losses[m], ignore_index = True)"
   ]
  },
  {
   "cell_type": "code",
   "execution_count": 8,
   "id": "3fbde4f7",
   "metadata": {},
   "outputs": [
    {
     "data": {
      "text/html": [
       "<div>\n",
       "<style scoped>\n",
       "    .dataframe tbody tr th:only-of-type {\n",
       "        vertical-align: middle;\n",
       "    }\n",
       "\n",
       "    .dataframe tbody tr th {\n",
       "        vertical-align: top;\n",
       "    }\n",
       "\n",
       "    .dataframe thead th {\n",
       "        text-align: right;\n",
       "    }\n",
       "</style>\n",
       "<table border=\"1\" class=\"dataframe\">\n",
       "  <thead>\n",
       "    <tr style=\"text-align: right;\">\n",
       "      <th></th>\n",
       "      <th>Unnamed: 0</th>\n",
       "      <th>0</th>\n",
       "    </tr>\n",
       "  </thead>\n",
       "  <tbody>\n",
       "    <tr>\n",
       "      <th>0</th>\n",
       "      <td>0</td>\n",
       "      <td>0.558378</td>\n",
       "    </tr>\n",
       "    <tr>\n",
       "      <th>1</th>\n",
       "      <td>1</td>\n",
       "      <td>0.252612</td>\n",
       "    </tr>\n",
       "    <tr>\n",
       "      <th>2</th>\n",
       "      <td>2</td>\n",
       "      <td>0.287201</td>\n",
       "    </tr>\n",
       "    <tr>\n",
       "      <th>3</th>\n",
       "      <td>3</td>\n",
       "      <td>0.238964</td>\n",
       "    </tr>\n",
       "    <tr>\n",
       "      <th>4</th>\n",
       "      <td>4</td>\n",
       "      <td>0.228073</td>\n",
       "    </tr>\n",
       "    <tr>\n",
       "      <th>...</th>\n",
       "      <td>...</td>\n",
       "      <td>...</td>\n",
       "    </tr>\n",
       "    <tr>\n",
       "      <th>97995</th>\n",
       "      <td>97995</td>\n",
       "      <td>0.022458</td>\n",
       "    </tr>\n",
       "    <tr>\n",
       "      <th>97996</th>\n",
       "      <td>97996</td>\n",
       "      <td>0.021054</td>\n",
       "    </tr>\n",
       "    <tr>\n",
       "      <th>97997</th>\n",
       "      <td>97997</td>\n",
       "      <td>0.015731</td>\n",
       "    </tr>\n",
       "    <tr>\n",
       "      <th>97998</th>\n",
       "      <td>97998</td>\n",
       "      <td>0.012111</td>\n",
       "    </tr>\n",
       "    <tr>\n",
       "      <th>97999</th>\n",
       "      <td>97999</td>\n",
       "      <td>0.006862</td>\n",
       "    </tr>\n",
       "  </tbody>\n",
       "</table>\n",
       "<p>98000 rows × 2 columns</p>\n",
       "</div>"
      ],
      "text/plain": [
       "       Unnamed: 0         0\n",
       "0               0  0.558378\n",
       "1               1  0.252612\n",
       "2               2  0.287201\n",
       "3               3  0.238964\n",
       "4               4  0.228073\n",
       "...           ...       ...\n",
       "97995       97995  0.022458\n",
       "97996       97996  0.021054\n",
       "97997       97997  0.015731\n",
       "97998       97998  0.012111\n",
       "97999       97999  0.006862\n",
       "\n",
       "[98000 rows x 2 columns]"
      ]
     },
     "execution_count": 8,
     "metadata": {},
     "output_type": "execute_result"
    }
   ],
   "source": [
    "# train batch size is 9800\n",
    "losses_long['train'][0]"
   ]
  },
  {
   "cell_type": "code",
   "execution_count": 17,
   "id": "c3268985",
   "metadata": {
    "scrolled": false
   },
   "outputs": [],
   "source": [
    "# figure 1: training loss vs validation loss at each epoch\n",
    "\n",
    "# for i, k in enumerate(dirs):\n",
    "# not ready yet\n",
    "\n",
    "for x in range(len(list(mdl_losses.keys()))):\n",
    "    plt.figure()\n",
    "    plt.plot(losses['train'][x]['0'], label = \"train\")\n",
    "    plt.plot(losses['val'][x]['0'], label = \"val\")\n",
    "    plt.title(list(mdl_losses.keys())[x])\n",
    "    plt.xlabel('Epoch')\n",
    "    plt.ylabel('Loss')\n",
    "    plt.legend()\n",
    "    plt.savefig(str(list(mdl_losses.keys())[x]) + '_epoch_loss.png')\n",
    "    plt.close()"
   ]
  },
  {
   "cell_type": "code",
   "execution_count": null,
   "id": "55206988",
   "metadata": {},
   "outputs": [],
   "source": [
    "# img comparison\n",
    "losses"
   ]
  },
  {
   "cell_type": "code",
   "execution_count": 24,
   "id": "5f0dae89",
   "metadata": {},
   "outputs": [],
   "source": [
    "# load training/validation data\n",
    "img_dirs = {'hazy' : main_dir + 'reside/hazy/', 'clear' : main_dir + 'reside/clear/'}\n",
    "train_data, validation_data, test_data = preparing_training_data(img_dirs['clear'], img_dirs['hazy'])"
   ]
  },
  {
   "cell_type": "code",
   "execution_count": 8,
   "id": "7233c9fe",
   "metadata": {},
   "outputs": [
    {
     "data": {
      "text/plain": [
       "9800"
      ]
     },
     "execution_count": 8,
     "metadata": {},
     "output_type": "execute_result"
    }
   ],
   "source": [
    "len(train_data)\n"
   ]
  },
  {
   "cell_type": "code",
   "execution_count": 25,
   "id": "13355f9b",
   "metadata": {},
   "outputs": [],
   "source": [
    "weight_dirs_pth = {models_avail[0] : weight_dir + str.lower(models_avail[0]) + '/39_', \n",
    "        models_avail[1] : weight_dir + str.lower(models_avail[0]) + '_KL/39_',\n",
    "       models_avail[2] : weight_dir + str.lower(models_avail[0]) + '_GL/39_',\n",
    "        models_avail[3] : weight_dir + str.lower(models_avail[0]) + '_MI/39_',\n",
    "       models_avail[4] : weight_dir + str.lower(models_avail[4]) + '/39_', \n",
    "        models_avail[5] : weight_dir + str.lower(models_avail[5]) + '/39_',\n",
    "       models_avail[6] : weight_dir + str.lower(models_avail[6]) + '/39_'}\n",
    "\n",
    "mdls = {'lhd' : LightDehazeNet(weight_dirs_pth[list(dirs.keys())[0]]), \n",
    "        'KL' : LightDehazeNet_KL(weight_dirs_pth[list(dirs.keys())[1]]), \n",
    "        'GL' : LightDehazeNet_GL(weight_dirs_pth[list(dirs.keys())[2]]),\n",
    "#         'MI' : LightDehazeNet_MI(weight_dirs_pth[list(dirs.keys())[3]]),\n",
    "        'attn': LightDehazeNet_Attn(weight_dirs_pth[list(dirs.keys())[3]]),\n",
    "        'attn_conv': LightDehazeNet_Attn_Conv(weight_dirs_pth[list(dirs.keys())[4]]),\n",
    "        'attn_conv_big': LightDehazeNet_Attn_Conv_Big(weight_dirs_pth[list(dirs.keys())[5]])}\n",
    "\n"
   ]
  },
  {
   "cell_type": "code",
   "execution_count": 26,
   "id": "ee20293a",
   "metadata": {},
   "outputs": [
    {
     "name": "stderr",
     "output_type": "stream",
     "text": [
      "/tmp/ipykernel_1814227/1425624761.py:13: UserWarning: Inputs have mismatched dtype.  Setting data_range based on image_true.\n",
      "  psnr_dict[m].append(metrics.peak_signal_noise_ratio(clear_image/255.0, dehazed.cpu().data.numpy()))\n",
      "/tmp/ipykernel_1814227/1425624761.py:14: FutureWarning: `multichannel` is a deprecated argument name for `structural_similarity`. It will be removed in version 1.0. Please use `channel_axis` instead.\n",
      "  ssim_dict[m].append(metrics.structural_similarity(clear_image/255.0, dehazed.cpu().data.numpy() ,multichannel = True))\n"
     ]
    }
   ],
   "source": [
    "# iterate through test data\n",
    "psnr_dict = {x : [] for x in list(mdls.keys())}\n",
    "ssim_dict = {x : [] for x in list(mdls.keys())}\n",
    "for i, [clear, hazy] in enumerate(test_data):\n",
    "    \n",
    "    hazy_image = np.array(Image.open(hazy))\n",
    "    clear_image = np.array(Image.open(clear))\n",
    "\n",
    "    for m in list(psnr_dict.keys()):\n",
    "        \n",
    "        dehazed = (mdls[m].image_haze_removel(hazy_image))[0, :, : :].permute(1, 2, 0)\n",
    "        \n",
    "        psnr_dict[m].append(metrics.peak_signal_noise_ratio(clear_image/255.0, dehazed.cpu().data.numpy()))\n",
    "        ssim_dict[m].append(metrics.structural_similarity(clear_image/255.0, dehazed.cpu().data.numpy() ,multichannel = True))\n",
    "        \n",
    "        \n",
    "#         psnr_dict[m].append(cv2.PSNR(dehazed.cpu().data.numpy(), clear_image))\n",
    "#         psnr_dict[m].append(compute_psnr(dehazed.cpu().data.numpy(), clear_image))\n"
   ]
  },
  {
   "cell_type": "code",
   "execution_count": 27,
   "id": "b46378e6",
   "metadata": {},
   "outputs": [],
   "source": [
    "psnr_df = pd.DataFrame.from_dict(psnr_dict, orient=\"index\")\n",
    "psnr_df.to_csv('psnr_df.csv')\n",
    "\n",
    "ssim_df = pd.DataFrame.from_dict(ssim_dict, orient=\"index\")\n",
    "ssim_df.to_csv('ssim_df.csv')"
   ]
  },
  {
   "cell_type": "code",
   "execution_count": 28,
   "id": "8acf6d84",
   "metadata": {},
   "outputs": [
    {
     "name": "stdout",
     "output_type": "stream",
     "text": [
      "lhd\n",
      "psnr:18.151829456283792\n",
      " ssim:0.8030419931980964\n",
      "KL\n",
      "psnr:18.245283072815468\n",
      " ssim:0.8178019462800099\n",
      "GL\n",
      "psnr:17.99771760570524\n",
      " ssim:0.7928901999291945\n",
      "attn\n",
      "psnr:18.12478820565566\n",
      " ssim:0.800988503141274\n",
      "attn_conv\n",
      "psnr:18.217716933505056\n",
      " ssim:0.8081946791743859\n",
      "attn_conv_big\n",
      "psnr:18.012484783549244\n",
      " ssim:0.793916293242307\n"
     ]
    }
   ],
   "source": [
    "for p, s in zip(list(psnr_dict.keys()), list(ssim_dict.keys())):\n",
    "    print(p)\n",
    "    print('psnr:' + str(np.array(psnr_dict[p]).mean()))\n",
    "    print(' ssim:' + str(np.array(ssim_dict[p]).mean()))"
   ]
  },
  {
   "cell_type": "code",
   "execution_count": 12,
   "id": "b9d746d9",
   "metadata": {
    "scrolled": false
   },
   "outputs": [
    {
     "data": {
      "image/png": "[encoded data removed]",
      "text/plain": [
       "<Figure size 640x480 with 1 Axes>"
      ]
     },
     "metadata": {},
     "output_type": "display_data"
    },
    {
     "name": "stderr",
     "output_type": "stream",
     "text": [
      "/tmp/ipykernel_1806579/2333041959.py:5: FutureWarning: The default dtype for empty Series will be 'object' instead of 'float64' in a future version. Specify a dtype explicitly to silence this warning.\n",
      "  plt.plot(pd.Series(psnr_dict[m]), label = m)\n"
     ]
    },
    {
     "data": {
      "image/png": "[encoded data removed]",
      "text/plain": [
       "<Figure size 640x480 with 1 Axes>"
      ]
     },
     "metadata": {},
     "output_type": "display_data"
    },
    {
     "data": {
      "image/png": "[encoded data removed]",
      "text/plain": [
       "<Figure size 640x480 with 1 Axes>"
      ]
     },
     "metadata": {},
     "output_type": "display_data"
    },
    {
     "data": {
      "image/png": "[encoded data removed]",
      "text/plain": [
       "<Figure size 640x480 with 1 Axes>"
      ]
     },
     "metadata": {},
     "output_type": "display_data"
    },
    {
     "data": {
      "image/png": "[encoded data removed]",
      "text/plain": [
       "<Figure size 640x480 with 1 Axes>"
      ]
     },
     "metadata": {},
     "output_type": "display_data"
    },
    {
     "data": {
      "image/png": "[encoded data removed]",
      "text/plain": [
       "<Figure size 640x480 with 1 Axes>"
      ]
     },
     "metadata": {},
     "output_type": "display_data"
    },
    {
     "name": "stderr",
     "output_type": "stream",
     "text": [
      "No artists with labels found to put in legend.  Note that artists whose label start with an underscore are ignored when legend() is called with no argument.\n"
     ]
    },
    {
     "data": {
      "text/plain": [
       "<matplotlib.legend.Legend at 0x7f52609ffd30>"
      ]
     },
     "execution_count": 12,
     "metadata": {},
     "output_type": "execute_result"
    },
    {
     "data": {
      "image/png": "[encoded data removed]",
      "text/plain": [
       "<Figure size 640x480 with 1 Axes>"
      ]
     },
     "metadata": {},
     "output_type": "display_data"
    }
   ],
   "source": [
    "# go through training data for each model:\n",
    "plt.figure()\n",
    "\n",
    "for m in list(psnr_dict.keys()):\n",
    "    plt.plot(pd.Series(psnr_dict[m]), label = m)\n",
    "    plt.show()\n",
    "plt.legend()\n"
   ]
  },
  {
   "cell_type": "code",
   "execution_count": null,
   "id": "d23a1546",
   "metadata": {},
   "outputs": [],
   "source": [
    "\n",
    "for m in list(psnr_dict.keys()):\n",
    "#     plt.plot(pd.Series(psnr_dict[m]), label = m)\n",
    "    \n",
    "    print(m + str(np.mean(psnr_dict[m])))\n",
    "\n"
   ]
  },
  {
   "cell_type": "code",
   "execution_count": null,
   "id": "0e69f183",
   "metadata": {},
   "outputs": [],
   "source": [
    "for x in range(len(list(mdl_losses.keys()))):\n",
    "    plt.figure()\n",
    "    plt.plot(losses['train'][x]['0'], label = \"train\")\n",
    "    plt.plot(losses['val'][x]['0'], label = \"val\")\n",
    "    plt.legend()\n",
    "    plt.show()"
   ]
  },
  {
   "cell_type": "code",
   "execution_count": null,
   "id": "f1b2b4c4",
   "metadata": {
    "scrolled": false
   },
   "outputs": [],
   "source": [
    "hazy_image = np.array(Image.open(test_data[2][1]))\n",
    "clear_image = np.array(Image.open(test_data[2][0]))\n",
    "\n",
    "for m in list(psnr_dict.keys()):\n",
    "    fig, (ax0, ax1, ax2) = plt.subplots(1,3, figsize = (8, 8))\n",
    "    dehazed = (mdls[m].image_haze_removel(hazy_image))[0, :, : :].permute(1, 2, 0)\n",
    "    ax0.imshow(dehazed.cpu().data.numpy())\n",
    "    ax1.imshow(hazy_image)\n",
    "    ax2.imshow(clear_image)"
   ]
  },
  {
   "cell_type": "code",
   "execution_count": null,
   "id": "aa78fc3b",
   "metadata": {},
   "outputs": [],
   "source": [
    "test_data[1]"
   ]
  },
  {
   "cell_type": "code",
   "execution_count": null,
   "id": "4c855a9b",
   "metadata": {},
   "outputs": [],
   "source": []
  }
 ],
 "metadata": {
  "kernelspec": {
   "display_name": "Python 3 (ipykernel)",
   "language": "python",
   "name": "python3"
  },
  "language_info": {
   "codemirror_mode": {
    "name": "ipython",
    "version": 3
   },
   "file_extension": ".py",
   "mimetype": "text/x-python",
   "name": "python",
   "nbconvert_exporter": "python",
   "pygments_lexer": "ipython3",
   "version": "3.9.15"
  }
 },
 "nbformat": 4,
 "nbformat_minor": 5
}
